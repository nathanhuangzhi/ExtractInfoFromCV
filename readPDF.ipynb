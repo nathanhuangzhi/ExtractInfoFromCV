{
  "nbformat": 4,
  "nbformat_minor": 0,
  "metadata": {
    "colab": {
      "name": "Untitled2.ipynb",
      "provenance": [],
      "collapsed_sections": [],
      "authorship_tag": "ABX9TyOh7+gF4+XK43VOob2hN8HM",
      "include_colab_link": true
    },
    "kernelspec": {
      "name": "python3",
      "display_name": "Python 3"
    },
    "language_info": {
      "name": "python"
    }
  },
  "cells": [
    {
      "cell_type": "markdown",
      "metadata": {
        "id": "view-in-github",
        "colab_type": "text"
      },
      "source": [
        "<a href=\"https://colab.research.google.com/github/nathanhuangzhi/ExtractInfoFromCV/blob/main/readPDF.ipynb\" target=\"_parent\"><img src=\"https://colab.research.google.com/assets/colab-badge.svg\" alt=\"Open In Colab\"/></a>"
      ]
    },
    {
      "cell_type": "code",
      "metadata": {
        "id": "m6XHTP-gTxNS"
      },
      "source": [
        "# !pip install pdfminer.six\n",
        "# !pip install -U pip setuptools wheel\n",
        "# !pip install -U spacy\n",
        "# !python -m spacy download en_core_web_sm\n",
        "# !python -m spacy download en_core_web_trf"
      ],
      "execution_count": 2,
      "outputs": []
    },
    {
      "cell_type": "code",
      "metadata": {
        "id": "LonKYMis-6GS"
      },
      "source": [
        "from pdfminer.high_level import extract_text\n",
        "\n",
        "def extract_text_from_pdf(pdf_path):\n",
        "    return extract_text(pdf_path)\n",
        "\n",
        "# if __name__ == '__main__':\n",
        "#   print(extract_text_from_pdf('cv-athey-susan-carleton-2021-mar.pdf'))  # noqa: T001"
      ],
      "execution_count": 3,
      "outputs": []
    },
    {
      "cell_type": "code",
      "metadata": {
        "id": "Jxws45F2-9GB"
      },
      "source": [
        "import spacy\n",
        "\n",
        "nlp = spacy.load(\"en_core_web_trf\")\n",
        "doc = nlp(extract_text_from_pdf('cv-athey-susan-carleton-2021-mar.pdf'))\n",
        "# for token in doc:\n",
        "#     print(token.text, token.pos_, token.dep_)\n",
        "\n",
        "doc_cleaned = [token for token in doc if not token.is_stop and not token.is_punct]\n",
        "\n",
        "# for token in doc_cleaned:\n",
        "#   print(token.text)\n",
        "\n",
        "# for entity in doc.ents:\n",
        "#   print(entity.text,'--- ',entity.label_)"
      ],
      "execution_count": 6,
      "outputs": []
    },
    {
      "cell_type": "code",
      "metadata": {
        "colab": {
          "base_uri": "https://localhost:8080/"
        },
        "id": "gFyzv62a_sXy",
        "outputId": "80cf35bf-2ece-4248-81c3-138790fb0d5b"
      },
      "source": [
        "list_of_per=[]\n",
        "\n",
        "for entity in doc.ents:\n",
        "  if entity.label_=='PERSON':\n",
        "    list_of_per.append(entity.text)\n",
        "print(list_of_per)"
      ],
      "execution_count": 7,
      "outputs": [
        {
          "output_type": "stream",
          "name": "stdout",
          "text": [
            "['SUSAN CARLETON ATHEY', 'Paul Milgrom', 'John Roberts', 'Edward Lazear', 'Holbrook', 'Castle Krob', 'Ely', 'John F. Nash, Jr.', 'Scott Stern', 'Amrita Ahuja', 'Arthur \\nBaker', 'Eric Budish', 'Juan Camilo Castillo', 'Rachel Glennerster', 'Scott  Duke Kominers', 'Michael Kremer', 'Greg Larson', 'Jean Lee', 'Canice Prendergast', 'Christopher M. Snyder', 'Alex Tabarrok', 'Brandon Joel Tan', 'Witold Wiecek', 'Sanath Kumar Krishnamurthy', 'Vitor Hadad', 'Mohsen Bayati', 'Nikolay Doudchenko', 'Guido Imbens', 'Khashayar Khosravi', 'Vitor \\n\\nHadad', 'David A. Hirshberg', 'Ruohan Zhan', 'Stefan Wager', 'Amrita Ahuja', 'Susan Athey', 'Arthur Baker', 'Eric Budish', 'Juan Camilo Castillo', 'Rachel Glennerster', 'Scott', 'Duke Kominers', 'Michael Kremer', 'Jean Lee', 'Canice Prendergast', 'Christopher M. Snyder', 'Alex Tabarrok', 'Brandon Joel Tan', 'Witold Wiecek', 'Egger', 'Dennis', 'Edward Miguel', 'Shana S. Warren', 'Ashish \\nShenoy', 'Elliott Collins', 'Dean Karlan', 'Doug Parkerson', 'Robert Donnelly', 'Francisco R. Ruiz', 'David Blei', 'Stefan Wager', 'Ittai Abraham', 'Moshe Babaioff', 'Michael Grubb', 'Guido Imbens', 'Jonas Metzger', 'Evan Munro', 'Rina Friedberg', 'Julie Tibshirani', 'Stefan Wager', 'Erik Sverdrup', 'Ayush Kanodia', 'Zhengyuan Zhou', 'Susan Athey', 'Stefan Wager', 'Konig', 'Powell', 'Staedtke', 'Bai', 'Thomas', 'Fischer', 'Mensh', 'Alberto \\nAbadie', 'Guido Imbens', 'Jeffrey Wooldridge', 'Kevin A. Bryan', 'Joshua S. Gans', 'Kun Kuang', 'Ruoxuan Xiong', 'Peng Cui', 'Bo Li', 'Stefan \\n\\nWager', 'Mohsen Bayati', 'Zhaonan Qu', 'Francisco Ruiz', 'David Blei', 'Maria Dimakopoulou', 'Zhengyuan Zhou', 'Guido Imbens', 'Julie Tibshirani', 'Stefan \\n\\nWager', 'Stefan Wager', 'Zhengyuan Zhou', 'Panayotis \\n\\nMertikopoulos', 'Nicholas Bambos', 'Peter Glynn', 'Yinyu Ye', 'Kun Kuang', 'Ruoxuan Xiong', 'Peng Cui', 'Bo Li', 'David Blei', 'Robert Donnelly', 'Francisco Ruiz', 'Tobias Schmidt', 'Guido Imbens', 'Stefan Wager', 'Dean Eckles', 'Guido Imbens', 'Liping Liu', 'Francisco Ruiz', 'David \\n\\nBlei', 'Maja Rudolph', 'Francisco Ruiz', 'David Blei', 'Guido Imbens', 'Thai Pham', 'Stefan Wager', 'Emilio Calvano', 'Joshua Gans', 'Guido Imbens', 'Guido Imbens', 'Glenn Ellison', 'Ilya Segal', 'Jonathan Levin', 'Dominic Coey', 'Glenn Ellison', 'Jonathan Levin', 'Enrique Seira', 'Joshua Gans', 'Nikhil Agarwal', 'David Yang', 'Kyle Bagwell', 'Ilya \\n\\nSegal', 'David Miller', 'Guido \\n\\nImbens', 'Larry Katz', 'Alan Krueger', 'James Poterba', 'Steve \\nLevitt', 'Andrew Atkeson', 'Patrick \\n\\nKehoe', 'Kyle Bagwell', 'Chris Sanchirico', 'Philip Haile', 'Kyle Bagwell', 'John Roberts', 'Jonathan \\nLevin', 'Paul Joskow', 'Michael Waterson', 'Edward Elgar', 'Armin Schmutzler', 'Chris Avery', 'Peter Zemsky', 'Scott Stern', 'Armin \\nSchmutzler', 'Rena Conti', 'Richard \\n\\nFrank', 'Jonathan Gruber', 'David MJ', 'Alex \\n\\nPentland', 'Duncan J. Watts', 'Sinan Aral', 'Susan Athey', 'Noshir Contractor', 'Yixin Wang', 'David M. Blei', 'Michael Pollman', 'Guido Imbens', 'Michael Luca', 'Yuliy Sannikov', 'Andrzej Skrzypacz', 'Guido \\nImbens', 'Guido Imbens', 'Scott \\n\\nStern', 'Richard Blundell', 'Whitney K. \\nNewey', 'Torsten Persson', 'Paul Milgrom', 'John Roberts', 'Scott Stern', 'David Cutler', 'Zeng', 'Jiaming', 'Michael F. Gensheimer', 'Daniel L. Rubin', 'Ross D. Shachter', 'Powell', 'Michael', 'Allison Koenecke', 'James Brian Byrd', 'Akihiko Nishimura', 'Maximilian \\nF. Konig', 'Ruoxuan Xiong', 'Sadiqa Mahmood et', 'Raj Chetty', 'Guido Imbens', 'Vogelstein', 'Powell', 'Koenecke', 'Xiong', 'Konig', 'Fischer', 'Vogelstein', 'Juan Camilo Castillo', 'Bharat Chandar', 'Ruoxuan Xiong', 'Mohsen \\n\\nBayati', 'Guido Imbens', 'Jonathan Johannemann', 'Vitor \\n\\nHadad', 'Stefan Wager', 'David A. Hirshberg', 'Guido W. Imbens', 'Stefan Wager', 'Billy Ferguson', 'Matthew Gentzkow', 'Tobias \\n\\nSchmidt', 'Zhengyuan Zhou', 'Stefan Wager', 'George Nicholson', 'Maria Dimakopoulou', 'Zhengyuan Zhou', 'Guido Imbens', 'Alberto Abadie', 'Guido \\n\\nImbens', 'Jeffrey Wooldridge', 'Christian \\n\\nCatalini', 'Catherine Tucker', 'David Blei', 'Francisco Ruiz', 'Dustin Tran', 'Markus Mobius', 'Ivo Parashkevov', 'Vishnu Sarukkai', 'Jing Xia', 'Raj Chetty', 'Guido Imbens', 'Hyunseung Kang', 'Denis Nekipelov', 'Markus Mobius', 'Maya Cohen Meidan', 'Saumitra Jha', 'Emilio \\n\\nCalvano', 'Jonathan Levin', 'Scott Stern', 'Joshua Gans', 'Scott Stern']\n"
          ]
        }
      ]
    },
    {
      "cell_type": "markdown",
      "metadata": {
        "id": "cAmRVyRi_Ceo"
      },
      "source": [
        "# New Section"
      ]
    }
  ]
}